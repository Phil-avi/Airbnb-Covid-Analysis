{
 "cells": [
  {
   "cell_type": "code",
   "execution_count": 1,
   "metadata": {},
   "outputs": [],
   "source": [
    "import numpy as np\n",
    "import pandas as pd\n",
    "from zipfile import ZipFile\n",
    "pd.set_option('display.max_columns',107)\n",
    "pd.set_option(\"max_rows\", 500)\n",
    "import dask.dataframe as dd\n",
    "from dask import delayed\n",
    "import gzip\n",
    "import glob\n",
    "import os\n",
    "import re\n",
    "import json\n",
    "import matplotlib.pyplot as plt\n",
    "%matplotlib inline"
   ]
  },
  {
   "cell_type": "markdown",
   "metadata": {},
   "source": [
    "## Review Single Datasets"
   ]
  },
  {
   "cell_type": "code",
   "execution_count": 2,
   "metadata": {},
   "outputs": [],
   "source": [
    "os.chdir('/Users/peace/standalone_projects/airbnb ')"
   ]
  },
  {
   "cell_type": "code",
   "execution_count": null,
   "metadata": {},
   "outputs": [],
   "source": [
    "# reviews=pd.read_csv('data/Barossa Valley/2020-10-26_ reviews.csv')\n",
    "# reviews_sy=pd.read_csv('data/Sydney/2020-11-05_ reviews.csv')\n",
    "# reviews_mel=pd.read_csv('data/Melbourne/2020-11-05_ reviews.csv')\n",
    "# calender=pd.read_csv('data/Sydney/2020-11-05_calendar.csv')\n",
    "# listings=pd.read_csv('data/Sydney/2020-11-05_listings.csv')\n",
    "# reviews_big=pd.read_csv('data/Sydney/2020-11-05_reviews.csv')\n",
    "# listings_big=pd.read_csv('data/Barossa Valley/11-2-2019_listings 2.csv')\n",
    "# neighbours=pd.read_csv('data/Barossa Valley/neighbourhoods.csv')\n",
    "# geo_bv=pd.read_json('Data/Barossa Valley/neighbourhoods.geojson')"
   ]
  },
  {
   "cell_type": "code",
   "execution_count": null,
   "metadata": {},
   "outputs": [],
   "source": [
    "# geo_bv.features[0]['geometry']['coordinates']"
   ]
  },
  {
   "cell_type": "markdown",
   "metadata": {},
   "source": [
    "## Create DataFrames\n",
    "Aggregate all the data since 2015 (over 1000 files) (some hosts might have taken off their listings during this period, those reviews wouldn't be availabel in the latest csv file)"
   ]
  },
  {
   "cell_type": "markdown",
   "metadata": {},
   "source": [
    "### Create A Review DataFrame"
   ]
  },
  {
   "cell_type": "code",
   "execution_count": null,
   "metadata": {},
   "outputs": [],
   "source": [
    "# #Use dask dataframe to aggregate over 200 csv files\n",
    "# def create_reviews():\n",
    "#     reviews=[]\n",
    "#     for city in ['Barossa Valley','Barwon South West, Vic','Melbourne','Northern Rivers','Sydney','Tasmania']:\n",
    "#         path=f'Data/{city}/*_ reviews.csv'\n",
    "#         reviews_dask=dd.read_csv(path)\n",
    "#         reviews_dask=reviews_dask.drop_duplicates(ignore_index=True)\n",
    "#         reviews_dask['city']=city\n",
    "#         reviews.append(reviews_dask)\n",
    "#     reviews_final=dd.concat(reviews,axis=0,ignore_index=True)\n",
    "#     return reviews_final.compute()"
   ]
  },
  {
   "cell_type": "code",
   "execution_count": null,
   "metadata": {},
   "outputs": [],
   "source": [
    "# def create_reviews():\n",
    "#     reviews_city=[]\n",
    "#     for city in ['Barossa Valley','Barwon South West, Vic','Melbourne','Northern Rivers','Sydney','Tasmania']:\n",
    "#         path=glob.glob(f'Data/{city}/*_ reviews.csv')\n",
    "#         reviews=[]\n",
    "#         for filename in path:\n",
    "#             reviews_dask=pd.read_csv(filename)\n",
    "#             reviews.append(reviews_dask)\n",
    "#         reviews_ddf=pd.concat(reviews,axis=0,ignore_index=True)\n",
    "#         reviews_ddf=reviews_ddf.drop_duplicates(ignore_index=True)\n",
    "#         reviews_ddf['city']=city\n",
    "#         reviews.append(reviews_ddf)\n",
    "#     reviews_final=dd.concat(reviews,axis=0,ignore_index=True)\n",
    "#     return reviews_final.compute()"
   ]
  },
  {
   "cell_type": "code",
   "execution_count": null,
   "metadata": {},
   "outputs": [],
   "source": [
    "# %%time\n",
    "# reviews_og_df=create_reviews()"
   ]
  },
  {
   "cell_type": "code",
   "execution_count": null,
   "metadata": {},
   "outputs": [],
   "source": [
    "# reviews_og_df.shape"
   ]
  },
  {
   "cell_type": "code",
   "execution_count": null,
   "metadata": {},
   "outputs": [],
   "source": [
    "# reviews_df.shape"
   ]
  },
  {
   "cell_type": "code",
   "execution_count": null,
   "metadata": {},
   "outputs": [],
   "source": [
    "# Save df\n",
    "# reviews_df.to_csv('Data/reviews.csv',index=False)"
   ]
  },
  {
   "cell_type": "markdown",
   "metadata": {},
   "source": [
    "### Create A Cancellation Dataframe & A Review Dataframe\n",
    "A review would be generated automatically when a booking is cancelled by the hosts."
   ]
  },
  {
   "cell_type": "code",
   "execution_count": 3,
   "metadata": {},
   "outputs": [],
   "source": [
    "@delayed\n",
    "def pandas_df_gz(filename):\n",
    "    df=pd.read_csv(filename,compression='gzip',error_bad_lines=False,engine='python')\n",
    "#     index_cancel=df[df['comments'].str.contains('This is an automated posting',na=False)].index\n",
    "    index_review=df[~df['comments'].str.contains('This is an automated posting',na=False)].index\n",
    "#     cancel_df=df.iloc[index_cancel]\n",
    "#     cancel_df.drop(['reviewer_id','reviewer_name','comments'],axis=1,inplace=True)\n",
    "    review_df=df.iloc[index_review]\n",
    "    review_df.drop(['comments'],axis=1,inplace=True)\n",
    "    return review_df"
   ]
  },
  {
   "cell_type": "code",
   "execution_count": 4,
   "metadata": {},
   "outputs": [],
   "source": [
    "# Dask doesn't work on gz files. \n",
    "def create_cancels():\n",
    "#     cancel_city=[]\n",
    "    review_city=[]\n",
    "    for city in ['Barossa Valley','Barwon South West, Vic','Melbourne','Northern Rivers','Sydney','Tasmania']:\n",
    "        path=f'Data/{city}'\n",
    "        all_files=glob.glob(path+'/*_reviews.csv.gz')\n",
    "#         cancel=[]\n",
    "        review=[]\n",
    "        for filename in all_files:\n",
    "            split=re.split('/|-|_',filename)\n",
    "            year=int(split[2])\n",
    "            if year>=2019:\n",
    "                review_dask=pandas_df_gz(filename)\n",
    "#                 cancel_dask=dd.from_delayed(cancel_dask)\n",
    "#                 cancel.append(cancel_dask)\n",
    "                review_dask=dd.from_delayed(review_dask)\n",
    "                review.append(review_dask)\n",
    "#         cancel_df=dd.concat(cancel,axis=0,ignore_index=True)\n",
    "#         cancel_df=cancel_df.drop_duplicates(ignore_index=True)\n",
    "#         cancel_df['city']=city\n",
    "#         cancel_city.append(cancel_df)\n",
    "        review_df=dd.concat(review,axis=0,ignore_index=True)\n",
    "        review_df=review_df.drop_duplicates(ignore_index=True)\n",
    "        review_df['city']=city\n",
    "        review_city.append(review_df)\n",
    "        print(city)\n",
    "        \n",
    "#     cancel_final=dd.concat(cancel_city,axis=0,ignore_index=True)\n",
    "    review_final=dd.concat(review_city,axis=0,ignore_index=True)\n",
    "\n",
    "    return review_final.compute()"
   ]
  },
  {
   "cell_type": "code",
   "execution_count": 5,
   "metadata": {
    "collapsed": true
   },
   "outputs": [
    {
     "name": "stderr",
     "output_type": "stream",
     "text": [
      "/anaconda3/envs/airbnb/lib/python3.8/site-packages/pandas/core/frame.py:3990: SettingWithCopyWarning: \n",
      "A value is trying to be set on a copy of a slice from a DataFrame\n",
      "\n",
      "See the caveats in the documentation: https://pandas.pydata.org/pandas-docs/stable/user_guide/indexing.html#returning-a-view-versus-a-copy\n",
      "  return super().drop(\n"
     ]
    },
    {
     "name": "stdout",
     "output_type": "stream",
     "text": [
      "Barossa Valley\n"
     ]
    },
    {
     "name": "stderr",
     "output_type": "stream",
     "text": [
      "/anaconda3/envs/airbnb/lib/python3.8/site-packages/pandas/core/frame.py:3990: SettingWithCopyWarning: \n",
      "A value is trying to be set on a copy of a slice from a DataFrame\n",
      "\n",
      "See the caveats in the documentation: https://pandas.pydata.org/pandas-docs/stable/user_guide/indexing.html#returning-a-view-versus-a-copy\n",
      "  return super().drop(\n"
     ]
    },
    {
     "name": "stdout",
     "output_type": "stream",
     "text": [
      "Barwon South West, Vic\n"
     ]
    },
    {
     "name": "stderr",
     "output_type": "stream",
     "text": [
      "/anaconda3/envs/airbnb/lib/python3.8/site-packages/pandas/core/frame.py:3990: SettingWithCopyWarning: \n",
      "A value is trying to be set on a copy of a slice from a DataFrame\n",
      "\n",
      "See the caveats in the documentation: https://pandas.pydata.org/pandas-docs/stable/user_guide/indexing.html#returning-a-view-versus-a-copy\n",
      "  return super().drop(\n"
     ]
    },
    {
     "name": "stdout",
     "output_type": "stream",
     "text": [
      "Melbourne\n"
     ]
    },
    {
     "name": "stderr",
     "output_type": "stream",
     "text": [
      "/anaconda3/envs/airbnb/lib/python3.8/site-packages/pandas/core/frame.py:3990: SettingWithCopyWarning: \n",
      "A value is trying to be set on a copy of a slice from a DataFrame\n",
      "\n",
      "See the caveats in the documentation: https://pandas.pydata.org/pandas-docs/stable/user_guide/indexing.html#returning-a-view-versus-a-copy\n",
      "  return super().drop(\n"
     ]
    },
    {
     "name": "stdout",
     "output_type": "stream",
     "text": [
      "Northern Rivers\n"
     ]
    },
    {
     "name": "stderr",
     "output_type": "stream",
     "text": [
      "/anaconda3/envs/airbnb/lib/python3.8/site-packages/pandas/core/frame.py:3990: SettingWithCopyWarning: \n",
      "A value is trying to be set on a copy of a slice from a DataFrame\n",
      "\n",
      "See the caveats in the documentation: https://pandas.pydata.org/pandas-docs/stable/user_guide/indexing.html#returning-a-view-versus-a-copy\n",
      "  return super().drop(\n"
     ]
    },
    {
     "name": "stdout",
     "output_type": "stream",
     "text": [
      "Sydney\n"
     ]
    },
    {
     "name": "stderr",
     "output_type": "stream",
     "text": [
      "/anaconda3/envs/airbnb/lib/python3.8/site-packages/pandas/core/frame.py:3990: SettingWithCopyWarning: \n",
      "A value is trying to be set on a copy of a slice from a DataFrame\n",
      "\n",
      "See the caveats in the documentation: https://pandas.pydata.org/pandas-docs/stable/user_guide/indexing.html#returning-a-view-versus-a-copy\n",
      "  return super().drop(\n"
     ]
    },
    {
     "name": "stdout",
     "output_type": "stream",
     "text": [
      "Tasmania\n"
     ]
    },
    {
     "name": "stderr",
     "output_type": "stream",
     "text": [
      "/anaconda3/envs/airbnb/lib/python3.8/site-packages/pandas/core/frame.py:3990: SettingWithCopyWarning: \n",
      "A value is trying to be set on a copy of a slice from a DataFrame\n",
      "\n",
      "See the caveats in the documentation: https://pandas.pydata.org/pandas-docs/stable/user_guide/indexing.html#returning-a-view-versus-a-copy\n",
      "  return super().drop(\n",
      "/anaconda3/envs/airbnb/lib/python3.8/site-packages/pandas/core/frame.py:3990: SettingWithCopyWarning: \n",
      "A value is trying to be set on a copy of a slice from a DataFrame\n",
      "\n",
      "See the caveats in the documentation: https://pandas.pydata.org/pandas-docs/stable/user_guide/indexing.html#returning-a-view-versus-a-copy\n",
      "  return super().drop(\n",
      "/anaconda3/envs/airbnb/lib/python3.8/site-packages/pandas/core/frame.py:3990: SettingWithCopyWarning: \n",
      "A value is trying to be set on a copy of a slice from a DataFrame\n",
      "\n",
      "See the caveats in the documentation: https://pandas.pydata.org/pandas-docs/stable/user_guide/indexing.html#returning-a-view-versus-a-copy\n",
      "  return super().drop(\n",
      "/anaconda3/envs/airbnb/lib/python3.8/site-packages/pandas/core/frame.py:3990: SettingWithCopyWarning: \n",
      "A value is trying to be set on a copy of a slice from a DataFrame\n",
      "\n",
      "See the caveats in the documentation: https://pandas.pydata.org/pandas-docs/stable/user_guide/indexing.html#returning-a-view-versus-a-copy\n",
      "  return super().drop(\n",
      "/anaconda3/envs/airbnb/lib/python3.8/site-packages/pandas/core/frame.py:3990: SettingWithCopyWarning: \n",
      "A value is trying to be set on a copy of a slice from a DataFrame\n",
      "\n",
      "See the caveats in the documentation: https://pandas.pydata.org/pandas-docs/stable/user_guide/indexing.html#returning-a-view-versus-a-copy\n",
      "  return super().drop(\n",
      "/anaconda3/envs/airbnb/lib/python3.8/site-packages/pandas/core/frame.py:3990: SettingWithCopyWarning: \n",
      "A value is trying to be set on a copy of a slice from a DataFrame\n",
      "\n",
      "See the caveats in the documentation: https://pandas.pydata.org/pandas-docs/stable/user_guide/indexing.html#returning-a-view-versus-a-copy\n",
      "  return super().drop(\n",
      "/anaconda3/envs/airbnb/lib/python3.8/site-packages/pandas/core/frame.py:3990: SettingWithCopyWarning: \n",
      "A value is trying to be set on a copy of a slice from a DataFrame\n",
      "\n",
      "See the caveats in the documentation: https://pandas.pydata.org/pandas-docs/stable/user_guide/indexing.html#returning-a-view-versus-a-copy\n",
      "  return super().drop(\n",
      "/anaconda3/envs/airbnb/lib/python3.8/site-packages/pandas/core/frame.py:3990: SettingWithCopyWarning: \n",
      "A value is trying to be set on a copy of a slice from a DataFrame\n",
      "\n",
      "See the caveats in the documentation: https://pandas.pydata.org/pandas-docs/stable/user_guide/indexing.html#returning-a-view-versus-a-copy\n",
      "  return super().drop(\n",
      "/anaconda3/envs/airbnb/lib/python3.8/site-packages/pandas/core/frame.py:3990: SettingWithCopyWarning: \n",
      "A value is trying to be set on a copy of a slice from a DataFrame\n",
      "\n",
      "See the caveats in the documentation: https://pandas.pydata.org/pandas-docs/stable/user_guide/indexing.html#returning-a-view-versus-a-copy\n",
      "  return super().drop(\n",
      "/anaconda3/envs/airbnb/lib/python3.8/site-packages/pandas/core/frame.py:3990: SettingWithCopyWarning: \n",
      "A value is trying to be set on a copy of a slice from a DataFrame\n",
      "\n",
      "See the caveats in the documentation: https://pandas.pydata.org/pandas-docs/stable/user_guide/indexing.html#returning-a-view-versus-a-copy\n",
      "  return super().drop(\n",
      "/anaconda3/envs/airbnb/lib/python3.8/site-packages/pandas/core/frame.py:3990: SettingWithCopyWarning: \n",
      "A value is trying to be set on a copy of a slice from a DataFrame\n",
      "\n",
      "See the caveats in the documentation: https://pandas.pydata.org/pandas-docs/stable/user_guide/indexing.html#returning-a-view-versus-a-copy\n",
      "  return super().drop(\n",
      "/anaconda3/envs/airbnb/lib/python3.8/site-packages/pandas/core/frame.py:3990: SettingWithCopyWarning: \n",
      "A value is trying to be set on a copy of a slice from a DataFrame\n",
      "\n",
      "See the caveats in the documentation: https://pandas.pydata.org/pandas-docs/stable/user_guide/indexing.html#returning-a-view-versus-a-copy\n",
      "  return super().drop(\n",
      "/anaconda3/envs/airbnb/lib/python3.8/site-packages/pandas/core/frame.py:3990: SettingWithCopyWarning: \n",
      "A value is trying to be set on a copy of a slice from a DataFrame\n",
      "\n",
      "See the caveats in the documentation: https://pandas.pydata.org/pandas-docs/stable/user_guide/indexing.html#returning-a-view-versus-a-copy\n",
      "  return super().drop(\n",
      "/anaconda3/envs/airbnb/lib/python3.8/site-packages/pandas/core/frame.py:3990: SettingWithCopyWarning: \n",
      "A value is trying to be set on a copy of a slice from a DataFrame\n",
      "\n",
      "See the caveats in the documentation: https://pandas.pydata.org/pandas-docs/stable/user_guide/indexing.html#returning-a-view-versus-a-copy\n",
      "  return super().drop(\n",
      "/anaconda3/envs/airbnb/lib/python3.8/site-packages/pandas/core/frame.py:3990: SettingWithCopyWarning: \n",
      "A value is trying to be set on a copy of a slice from a DataFrame\n",
      "\n",
      "See the caveats in the documentation: https://pandas.pydata.org/pandas-docs/stable/user_guide/indexing.html#returning-a-view-versus-a-copy\n",
      "  return super().drop(\n",
      "/anaconda3/envs/airbnb/lib/python3.8/site-packages/pandas/core/frame.py:3990: SettingWithCopyWarning: \n",
      "A value is trying to be set on a copy of a slice from a DataFrame\n",
      "\n",
      "See the caveats in the documentation: https://pandas.pydata.org/pandas-docs/stable/user_guide/indexing.html#returning-a-view-versus-a-copy\n",
      "  return super().drop(\n",
      "/anaconda3/envs/airbnb/lib/python3.8/site-packages/pandas/core/frame.py:3990: SettingWithCopyWarning: \n",
      "A value is trying to be set on a copy of a slice from a DataFrame\n",
      "\n",
      "See the caveats in the documentation: https://pandas.pydata.org/pandas-docs/stable/user_guide/indexing.html#returning-a-view-versus-a-copy\n",
      "  return super().drop(\n",
      "/anaconda3/envs/airbnb/lib/python3.8/site-packages/pandas/core/frame.py:3990: SettingWithCopyWarning: \n",
      "A value is trying to be set on a copy of a slice from a DataFrame\n",
      "\n",
      "See the caveats in the documentation: https://pandas.pydata.org/pandas-docs/stable/user_guide/indexing.html#returning-a-view-versus-a-copy\n",
      "  return super().drop(\n",
      "/anaconda3/envs/airbnb/lib/python3.8/site-packages/pandas/core/frame.py:3990: SettingWithCopyWarning: \n",
      "A value is trying to be set on a copy of a slice from a DataFrame\n",
      "\n",
      "See the caveats in the documentation: https://pandas.pydata.org/pandas-docs/stable/user_guide/indexing.html#returning-a-view-versus-a-copy\n",
      "  return super().drop(\n",
      "/anaconda3/envs/airbnb/lib/python3.8/site-packages/pandas/core/frame.py:3990: SettingWithCopyWarning: \n",
      "A value is trying to be set on a copy of a slice from a DataFrame\n",
      "\n",
      "See the caveats in the documentation: https://pandas.pydata.org/pandas-docs/stable/user_guide/indexing.html#returning-a-view-versus-a-copy\n",
      "  return super().drop(\n"
     ]
    }
   ],
   "source": [
    "review_df=create_cancels()"
   ]
  },
  {
   "cell_type": "code",
   "execution_count": 65,
   "metadata": {},
   "outputs": [],
   "source": [
    "review_df=review_df.drop(['reviewer_name'],axis=1).drop_duplicates(ignore_index=True)\n",
    "review_df.drop(['city','reviewer_id','id'],axis=1,inplace=True)"
   ]
  },
  {
   "cell_type": "code",
   "execution_count": 70,
   "metadata": {},
   "outputs": [
    {
     "data": {
      "text/plain": [
       "(2723370, 2)"
      ]
     },
     "execution_count": 70,
     "metadata": {},
     "output_type": "execute_result"
    }
   ],
   "source": [
    "review_df.shape"
   ]
  },
  {
   "cell_type": "code",
   "execution_count": 85,
   "metadata": {},
   "outputs": [],
   "source": [
    "# Save df\n",
    "# cancel_df.to_csv('Data/cancels.csv',index=False)\n",
    "review_df.to_csv('Data/reviews.csv',index=False)\n",
    "# review_og_df=pd.read_csv('Data/reviews.csv')\n",
    "# cancel_og_df=pd.read_csv('Data/cancels.csv')"
   ]
  },
  {
   "cell_type": "markdown",
   "metadata": {},
   "source": [
    "### Create A Listing DataFrame\n",
    "Join over 20 snapshots for every city from 2019-01 to 2020-11"
   ]
  },
  {
   "cell_type": "code",
   "execution_count": null,
   "metadata": {},
   "outputs": [],
   "source": [
    "@delayed\n",
    "def pandas_df(filename,date,city):\n",
    "    df=pd.read_csv(filename)\n",
    "    df['city']=city\n",
    "    df['date']=date\n",
    "    return df"
   ]
  },
  {
   "cell_type": "code",
   "execution_count": null,
   "metadata": {},
   "outputs": [],
   "source": [
    "# ,'Barwon South West, Vic','Melbourne','Northern Rivers','Sydney','Tasmania'\n",
    "def create_listings():\n",
    "    listings_city=[]\n",
    "    for city in ['Barossa Valley','Barwon South West, Vic','Melbourne','Northern Rivers','Sydney','Tasmania']:\n",
    "        path=glob.glob(f'Data/{city}/*_listings.csv')\n",
    "        listings=[]\n",
    "        for filename in path:\n",
    "            split=re.split('/|-|_',filename)\n",
    "            year=int(split[2])\n",
    "            if year>=2019:\n",
    "                date=re.split('/|_',filename)[2]\n",
    "                listings_dask=pandas_df(filename,date,city)\n",
    "                listings_dask=dd.from_delayed(listings_dask)\n",
    "                listings.append(listings_dask)\n",
    "        listings_df=dd.concat(listings,axis=0,ignore_index=True)\n",
    "        listings_city.append(listings_df)\n",
    "    listings_final=dd.concat(listings_city,axis=0,ignore_index=True)\n",
    "\n",
    "    return listings_final.compute()"
   ]
  },
  {
   "cell_type": "code",
   "execution_count": null,
   "metadata": {},
   "outputs": [],
   "source": [
    "listings_df=create_listings()"
   ]
  },
  {
   "cell_type": "code",
   "execution_count": null,
   "metadata": {},
   "outputs": [],
   "source": [
    "listings_df['date']=pd.to_datetime(listings_df.date)"
   ]
  },
  {
   "cell_type": "code",
   "execution_count": 83,
   "metadata": {
    "collapsed": true
   },
   "outputs": [
    {
     "ename": "NameError",
     "evalue": "name 'listings_df' is not defined",
     "output_type": "error",
     "traceback": [
      "\u001b[0;31m---------------------------------------------------------------------------\u001b[0m",
      "\u001b[0;31mNameError\u001b[0m                                 Traceback (most recent call last)",
      "\u001b[0;32m<ipython-input-83-eb449deeb2fb>\u001b[0m in \u001b[0;36m<module>\u001b[0;34m\u001b[0m\n\u001b[0;32m----> 1\u001b[0;31m \u001b[0mlistings_df\u001b[0m\u001b[0;34m.\u001b[0m\u001b[0mshape\u001b[0m\u001b[0;34m\u001b[0m\u001b[0;34m\u001b[0m\u001b[0m\n\u001b[0m",
      "\u001b[0;31mNameError\u001b[0m: name 'listings_df' is not defined"
     ]
    }
   ],
   "source": [
    "listings_df.shape"
   ]
  },
  {
   "cell_type": "code",
   "execution_count": null,
   "metadata": {},
   "outputs": [],
   "source": [
    "# Save df\n",
    "# listings_df.to_csv('Data/listings.csv',index=False)"
   ]
  },
  {
   "cell_type": "markdown",
   "metadata": {},
   "source": [
    "## Clean Data for Plotly Plots"
   ]
  },
  {
   "cell_type": "markdown",
   "metadata": {},
   "source": [
    "### reviews_df"
   ]
  },
  {
   "cell_type": "code",
   "execution_count": 96,
   "metadata": {},
   "outputs": [],
   "source": [
    "reviews_df=pd.read_csv('Data/reviews.csv')  "
   ]
  },
  {
   "cell_type": "code",
   "execution_count": 97,
   "metadata": {},
   "outputs": [
    {
     "data": {
      "text/plain": [
       "(2723370, 2)"
      ]
     },
     "execution_count": 97,
     "metadata": {},
     "output_type": "execute_result"
    }
   ],
   "source": [
    "reviews_df.shape"
   ]
  },
  {
   "cell_type": "code",
   "execution_count": 98,
   "metadata": {},
   "outputs": [],
   "source": [
    "reviews_df['date_ym']=pd.to_datetime(reviews_df['date']).dt.strftime('%Y-%m')"
   ]
  },
  {
   "cell_type": "code",
   "execution_count": 100,
   "metadata": {},
   "outputs": [],
   "source": [
    "reviews_df=reviews_df[reviews_df['date_ym']>'2019-06']\n",
    "# reviews_df.drop(['date'],axis=1,inplace=True)"
   ]
  },
  {
   "cell_type": "code",
   "execution_count": 102,
   "metadata": {},
   "outputs": [],
   "source": [
    "# Save cleaned df\n",
    "# reviews_df.to_csv('Data/cleaned_reviews.csv',index=False)"
   ]
  },
  {
   "cell_type": "markdown",
   "metadata": {},
   "source": [
    "#### Monthly Reviews"
   ]
  },
  {
   "cell_type": "code",
   "execution_count": null,
   "metadata": {},
   "outputs": [],
   "source": [
    "monthly_reviews_df=reviews_df.groupby(['city','date_ym']).count()"
   ]
  },
  {
   "cell_type": "markdown",
   "metadata": {},
   "source": [
    "#### Monthly Listings' Reviews"
   ]
  },
  {
   "cell_type": "code",
   "execution_count": null,
   "metadata": {},
   "outputs": [],
   "source": [
    "listings_reviews_df=reviews_df.groupby(['listing_id','date_ym']).count()"
   ]
  },
  {
   "cell_type": "markdown",
   "metadata": {},
   "source": [
    "### cancels_df"
   ]
  },
  {
   "cell_type": "code",
   "execution_count": null,
   "metadata": {},
   "outputs": [],
   "source": [
    "cancels_df=pd.read_csv('Data/cancels.csv')"
   ]
  },
  {
   "cell_type": "code",
   "execution_count": null,
   "metadata": {},
   "outputs": [],
   "source": [
    "cancels_df['date_ym']=pd.to_datetime(cancels_df['date']).dt.strftime('%Y-%m')\n",
    "cancels_df=cancels_df[cancels_df['date_ym']>'2019']\n",
    "# cancels_df.drop(['id','date','reviewer_id','reviewer_name','comments'],axis=1,inplace=True)\n",
    "# cancels_df=cancels_df.groupby(['city','date_ym']).count()"
   ]
  },
  {
   "cell_type": "code",
   "execution_count": null,
   "metadata": {},
   "outputs": [],
   "source": [
    "# Save cleaned df\n",
    "# cancels_df.to_csv('Data/cleaned_cancels.csv',index=True)"
   ]
  },
  {
   "cell_type": "code",
   "execution_count": null,
   "metadata": {},
   "outputs": [],
   "source": [
    "cancels_df=pd.read_csv('Data/cleaned_cancels.csv')"
   ]
  },
  {
   "cell_type": "code",
   "execution_count": null,
   "metadata": {},
   "outputs": [],
   "source": [
    "cancels_df.shape"
   ]
  },
  {
   "cell_type": "markdown",
   "metadata": {},
   "source": [
    "### listings_df"
   ]
  },
  {
   "cell_type": "code",
   "execution_count": null,
   "metadata": {},
   "outputs": [],
   "source": [
    "listings_df=pd.read_csv('Data/listings.csv')"
   ]
  },
  {
   "cell_type": "code",
   "execution_count": null,
   "metadata": {},
   "outputs": [],
   "source": [
    "# create a column for only year and month\n",
    "listings_df.loc[listings_df['date']=='2019-05-01','date']='2019-04-30'\n",
    "listings_df.loc[listings_df['date']=='2019-09-01','date']='2019-08-31'\n",
    "listings_df['date_ym']=pd.to_datetime(listings_df['date']).dt.strftime('%Y-%m')\n",
    "listings_df.drop(['host_id','host_name','neighbourhood_group','number_of_reviews','last_review','reviews_per_month','calculated_host_listings_count','date','neighbourhood','minimum_nights'],axis=1,inplace=True)"
   ]
  },
  {
   "cell_type": "code",
   "execution_count": null,
   "metadata": {},
   "outputs": [],
   "source": [
    "# delete isolated data\n",
    "index_1=listings_df[(listings_df['city']=='Barossa Valley')&(listings_df['date_ym']=='2020-10')].index.values\n",
    "index_2=listings_df[(listings_df['city']=='Barwon South West, Vic')&(listings_df['date_ym']=='2020-10')].index.values"
   ]
  },
  {
   "cell_type": "code",
   "execution_count": null,
   "metadata": {},
   "outputs": [],
   "source": [
    "listings_df.drop(index_1,axis=0,inplace=True)\n",
    "listings_df.drop(index_2,axis=0,inplace=True)"
   ]
  },
  {
   "cell_type": "code",
   "execution_count": null,
   "metadata": {},
   "outputs": [],
   "source": [
    "def update_date(s):\n",
    "    '''\n",
    "    create a date number column for the slider widget\n",
    "    '''\n",
    "    year=re.split('-',s)[0]\n",
    "    month=re.split('-',s)[1]\n",
    "    if year=='2019':\n",
    "        num=int(month)-7\n",
    "    elif year=='2020':\n",
    "        num=int(month)+5\n",
    "    else:\n",
    "        print('Error')\n",
    "    return num"
   ]
  },
  {
   "cell_type": "code",
   "execution_count": null,
   "metadata": {},
   "outputs": [],
   "source": [
    "listings_df['date_num']=listings_df['date_ym'].apply(update_date)"
   ]
  },
  {
   "cell_type": "code",
   "execution_count": null,
   "metadata": {},
   "outputs": [],
   "source": [
    "# Drop rows with 0 availability in 365 days\n",
    "listings_index=listings_df[listings_df['availability_365']==0].index\n",
    "listings_df.drop(listings_index,axis=0,inplace=True)\n",
    "listings_df.drop('availability_365',axis=1,inplace=True)"
   ]
  },
  {
   "cell_type": "code",
   "execution_count": null,
   "metadata": {},
   "outputs": [],
   "source": [
    "listings_df=listings_df[listings_df['date_ym']>'2019-06']"
   ]
  },
  {
   "cell_type": "code",
   "execution_count": null,
   "metadata": {},
   "outputs": [],
   "source": [
    "map_room={'Entire home/apt':'Entire home','Private room':'Private room','Hotel room':'Hotel','Shared room':'Shared'}\n",
    "listings_df['room_type']=listings_df.room_type.map(map_room)"
   ]
  },
  {
   "cell_type": "code",
   "execution_count": 9,
   "metadata": {},
   "outputs": [],
   "source": [
    "# Save cleaned df\n",
    "# listings_df.to_csv('Data/cleaned_listings.csv',index=False)\n",
    "# listings_df=pd.read_csv('Data/cleaned_listings.csv')"
   ]
  }
 ],
 "metadata": {
  "kernelspec": {
   "display_name": "airbnb",
   "language": "python",
   "name": "airbnb"
  },
  "language_info": {
   "codemirror_mode": {
    "name": "ipython",
    "version": 3
   },
   "file_extension": ".py",
   "mimetype": "text/x-python",
   "name": "python",
   "nbconvert_exporter": "python",
   "pygments_lexer": "ipython3",
   "version": "3.8.5"
  }
 },
 "nbformat": 4,
 "nbformat_minor": 4
}
